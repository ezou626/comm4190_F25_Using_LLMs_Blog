{
 "cells": [
  {
   "cell_type": "raw",
   "id": "d248efdd-1593-49a8-b642-4e65b1f59259",
   "metadata": {},
   "source": [
    "---\n",
    "title: \"An LLM Conversation\"\n",
    "description: \"Analyzing a conversation between two LLMs in a simulated chat environment\" \n",
    "author: \"Eric\"\n",
    "date: \"9/3/2025\"\n",
    "categories:\n",
    "  - LLMs\n",
    "  - Conversations\n",
    "---"
   ]
  },
  {
   "cell_type": "markdown",
   "id": "3900243e-14d2-4843-bf88-2dd0bcac6042",
   "metadata": {},
   "source": [
    "I'm interested in creating a simple chat environment and letting some models talk to each other. I think it would be cool to find some measurements of the social characteristics of these LLMs."
   ]
  }
 ],
 "metadata": {
  "kernelspec": {
   "display_name": "Python 3-12 (COMM4190)",
   "language": "python",
   "name": "python3-12_comm4190"
  },
  "language_info": {
   "codemirror_mode": {
    "name": "ipython",
    "version": 3
   },
   "file_extension": ".py",
   "mimetype": "text/x-python",
   "name": "python",
   "nbconvert_exporter": "python",
   "pygments_lexer": "ipython3",
   "version": "3.12.11"
  }
 },
 "nbformat": 4,
 "nbformat_minor": 5
}
